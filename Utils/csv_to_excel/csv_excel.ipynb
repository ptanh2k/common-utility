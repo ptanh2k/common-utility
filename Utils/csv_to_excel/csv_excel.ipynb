{
  "nbformat": 4,
  "nbformat_minor": 0,
  "metadata": {
    "colab": {
      "provenance": [],
      "collapsed_sections": []
    },
    "kernelspec": {
      "name": "python3",
      "display_name": "Python 3"
    },
    "language_info": {
      "name": "python"
    }
  },
  "cells": [
    {
      "cell_type": "code",
      "execution_count": 5,
      "metadata": {
        "id": "i99PFute8R0X"
      },
      "outputs": [],
      "source": [
        "import requests\n",
        "import pandas as pd\n",
        "\n",
        "## url: github url\n",
        "## output: output path\n",
        "def download_csv(url, output):\n",
        "  res = requests.get(url, allow_redirects=True)\n",
        "  with open(output, 'wb') as f:\n",
        "    f.write(res.content)\n",
        "    f.close()"
      ]
    },
    {
      "cell_type": "code",
      "source": [
        "## input: input path\n",
        "## output: output path\n",
        "def csv_to_excel(input, output):\n",
        "  csv_file = pd.read_csv(input)\n",
        "  csv_file.to_excel (output, index = None, header=True)"
      ],
      "metadata": {
        "id": "B6a8qgW0MRnC"
      },
      "execution_count": 7,
      "outputs": []
    }
  ]
}